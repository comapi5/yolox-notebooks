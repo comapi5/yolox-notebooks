{
  "nbformat": 4,
  "nbformat_minor": 0,
  "metadata": {
    "colab": {
      "provenance": [],
      "mount_file_id": "1VgHVPTB8eyMc6FY4XbUeP_VVCtMXzDJ2",
      "authorship_tag": "ABX9TyMKZfj1CCsV3lKS9HUjVkD6",
      "include_colab_link": true
    },
    "kernelspec": {
      "name": "python3",
      "display_name": "Python 3"
    },
    "language_info": {
      "name": "python"
    },
    "accelerator": "GPU",
    "gpuClass": "standard"
  },
  "cells": [
    {
      "cell_type": "markdown",
      "metadata": {
        "id": "view-in-github",
        "colab_type": "text"
      },
      "source": [
        "<a href=\"https://colab.research.google.com/github/comapi5/yolox-notebooks/blob/main/predict_image.ipynb\" target=\"_parent\"><img src=\"https://colab.research.google.com/assets/colab-badge.svg\" alt=\"Open In Colab\"/></a>"
      ]
    },
    {
      "cell_type": "code",
      "source": [
        "%%bash\n",
        "pip install yolox==0.3.0 logzero\n",
        "wget https://github.com/Megvii-BaseDetection/YOLOX/releases/download/0.1.1rc0/yolox_x.pth"
      ],
      "metadata": {
        "id": "BpAOi3fFH9Tp"
      },
      "execution_count": null,
      "outputs": []
    },
    {
      "cell_type": "code",
      "source": [
        "import torch\n",
        "from logzero import logger\n",
        "from yolox.exp import get_exp\n",
        "from yolox.utils import get_model_info\n",
        "\n",
        "exp = get_exp(None, \"yolox-x\")\n",
        "logger.info(f\"exp name: {exp.exp_name}\")\n",
        "\n",
        "exp.test_conf = 0.25\n",
        "exp.nmsthre = 0.45\n",
        "exp.test_size = (640, 640)\n",
        "\n",
        "model = exp.get_model()\n",
        "logger.info(\"Model Summary: {}\".format(get_model_info(model, exp.test_size)))\n",
        "\n",
        "model.cuda()\n",
        "model.half()  # to FP16\n",
        "model.eval()\n",
        "\n",
        "logger.info(\"loading checkpoint.\")\n",
        "ckpt = torch.load(\"yolox_x.pth\", map_location=\"cpu\")\n",
        "model.load_state_dict(ckpt[\"model\"])\n",
        "logger.info(\"loaded checkpoint done.\")"
      ],
      "metadata": {
        "id": "fw9Tnol6Ii6W"
      },
      "execution_count": null,
      "outputs": []
    },
    {
      "cell_type": "code",
      "source": [
        "import cv2\n",
        "from yolox.data.data_augment import ValTransform\n",
        "\n",
        "img_path = \"/content/drive/MyDrive/Colab Notebooks/dog.jpg\"\n",
        "raw_img = cv2.imread(img_path)\n",
        "logger.info(f\"input img shape; {raw_img.shape}\")\n",
        "\n",
        "preproc = ValTransform(legacy=False)\n",
        "img, _ = preproc(raw_img, None, exp.test_size)\n",
        "ratio = min(exp.test_size[0] / raw_img.shape[0], exp.test_size[1] / raw_img.shape[1])\n",
        "logger.info(f\"after ValTransform img shape; {img.shape}\")\n",
        "\n",
        "img = torch.from_numpy(img).unsqueeze(0)\n",
        "img = img.float()\n",
        "img = img.cuda()\n",
        "img = img.half()"
      ],
      "metadata": {
        "id": "4dJM2TyqL3qw"
      },
      "execution_count": null,
      "outputs": []
    },
    {
      "cell_type": "code",
      "source": [
        "from yolox.utils import get_model_info, postprocess, vis\n",
        "from yolox.data.datasets import COCO_CLASSES\n",
        "\n",
        "with torch.no_grad():\n",
        "  outputs = model(img)\n",
        "  outputs = postprocess(\n",
        "      outputs, \n",
        "      exp.num_classes, \n",
        "      exp.test_conf, \n",
        "      exp.nmsthre, \n",
        "      class_agnostic=True\n",
        "      )"
      ],
      "metadata": {
        "id": "-BVyn6QnO88t"
      },
      "execution_count": null,
      "outputs": []
    },
    {
      "cell_type": "code",
      "source": [
        "output = outputs[0].cpu()\n",
        "\n",
        "bboxes = output[:, 0:4]\n",
        "\n",
        "# resize\n",
        "bboxes /= ratio\n",
        "\n",
        "cls = output[:, 6]\n",
        "scores = output[:, 4] * output[:, 5]\n",
        "\n",
        "vis_res = vis(raw_img, bboxes, scores, cls, exp.test_conf, COCO_CLASSES)\n",
        "logger.info(f\"result shape: {vis_res.shape}\")\n",
        "\n",
        "# visualize\n",
        "import numpy as np\n",
        "from PIL import Image\n",
        "vis_res = cv2.cvtColor(vis_res, cv2.COLOR_RGB2BGR)\n",
        "Image.fromarray(np.uint8(vis_res))"
      ],
      "metadata": {
        "id": "rHA38dbEOHwe"
      },
      "execution_count": null,
      "outputs": []
    }
  ]
}